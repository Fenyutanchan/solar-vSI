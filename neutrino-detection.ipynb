{
 "cells": [
  {
   "cell_type": "code",
   "execution_count": 1,
   "metadata": {},
   "outputs": [],
   "source": [
    "import matplotlib.pyplot as plt\n",
    "import numpy as np\n",
    "\n",
    "plt.rc('text', usetex=True)\n",
    "plt.rc('font', family='serif')\n",
    "# plt.rc('text.latex', preamble=r'\\usepackage{wasysym}')\n",
    "\n",
    "\n",
    "import scipy.integrate as si\n",
    "import scipy as sp\n",
    "import scipy.optimize as so\n",
    "import scipy.interpolate as st #sinterp\n",
    "\n",
    "Abs=np.abs\n",
    "Log=np.log\n",
    "Log10=np.log10\n",
    "Pi=np.pi\n",
    "ArcTanh=np.arctanh\n",
    "Sqrt=np.sqrt\n",
    "Exp=np.exp\n",
    "Cos=np.cos\n",
    "Sin=np.sin\n",
    "Arg=np.angle\n",
    "HeavisideTheta=lambda x: np.heaviside(x,0)\n",
    "def Plot(fun,xminmax,n=100):\n",
    "    xlist=np.linspace(xminmax[0],xminmax[1],n)\n",
    "    ylist=[fun(x) for x in xlist]\n",
    "    plt.plot(xlist,ylist)\n",
    "    \n",
    "import time\n",
    "def Timing_begin():\n",
    "    global time_start\n",
    "    time_start=time.time()\n",
    "def Timing_end():\n",
    "    Δt=time.time()-time_start\n",
    "    print(\"time used:\",Δt)\n",
    "#     return Δt"
   ]
  },
  {
   "cell_type": "code",
   "execution_count": null,
   "metadata": {},
   "outputs": [],
   "source": []
  },
  {
   "cell_type": "code",
   "execution_count": 2,
   "metadata": {},
   "outputs": [],
   "source": [
    "\n",
    "\n",
    "\n",
    "MeV=1\n",
    "GeV=1e3;\n",
    "me=0.511*MeV\n",
    "GF=0.00001166*GeV**-2\n",
    "cm=5.06842e10 *MeV**-1\n",
    "cmtoMeV = 5.06842e10\n",
    "\n",
    "\n",
    "\n",
    "eV=1e-6 *MeV\n",
    "kg=1e3*5.610e32* eV#;\n",
    "kt=1e6*kg\n",
    "atomic_u=9.315e2 #MeV\n",
    "\n",
    "\n",
    "IBD_data=np.loadtxt(\"data/IBD-Strumia.txt\")\n",
    "IBD_data[:,1]=1e-41*cmtoMeV**2*IBD_data[:,1]\n",
    "IBD_thre=1.8 * MeV\n",
    "def σ_IBD(E):\n",
    "    assert E>IBD_thre\n",
    "    return np.interp(E,IBD_data[:,0],IBD_data[:,1])"
   ]
  },
  {
   "cell_type": "code",
   "execution_count": 3,
   "metadata": {},
   "outputs": [],
   "source": [
    "N_SuperK_H=2* 32*kt/(18.015*atomic_u) \n",
    "bkg_SuperK=0.01  #unit: num of bkg events per second\n",
    "\n",
    "N_HyperK_H=2* 374*kt/(18.015*atomic_u) \n",
    "bkg_HyperK=0.01 * 374/32  #unit: num of bkg events per second\n",
    "\n",
    "N_THEIA_H=2* 100*kt/(18.015*atomic_u)  \n",
    "\n",
    "N_DUNE_Ar=40*kt /(39.948*atomic_u) \n",
    "N_DUNE_e=(18)*40*kt /(39.948*atomic_u)\n",
    "bkg_DUNE=0.01 * 40/32  #unit: num of bkg events per second\n",
    "\n",
    "N_JUNO_H=2* 20*kt/(14*atomic_u)#assuming CnH2n->C1H2-> 12+2 p/n, 6+2 e\n",
    "N_JUNO_e=(6+2) * 20*kt/(14*atomic_u) #assuming CnH2n->C1H2-> 12+2 p/n, 6+2 e\n",
    "bkg_JUNO=0.01 * 20/32  #unit: num of bkg events per second\n",
    "\n",
    "N_SuperK_e=(8+2) * 32*kt/(18*atomic_u) #assuming H2O->16+2 p or n, 8+2 e\n",
    "N_HyperK_e=(8+2) * 374*kt/(18*atomic_u) #assuming H2O->16+2 p or n, 8+2 e\n",
    "N_HyperK_H=2* 374*kt/(18*atomic_u)#\n",
    "\n"
   ]
  },
  {
   "cell_type": "code",
   "execution_count": 4,
   "metadata": {},
   "outputs": [
    {
     "data": {
      "text/plain": [
       "(1.7207269381182426e+33, 6.686144083723395e+33, 2.502701735551977e+34)"
      ]
     },
     "execution_count": 4,
     "metadata": {},
     "output_type": "execute_result"
    }
   ],
   "source": [
    "N_JUNO_H, N_THEIA_H, N_HyperK_H"
   ]
  },
  {
   "cell_type": "code",
   "execution_count": 5,
   "metadata": {},
   "outputs": [],
   "source": [
    "#'data/flux-B16-GS98.npy' originally from the project of solar ν review\n",
    "flux=np.load('data/flux-B16-GS98.npy',allow_pickle=True)\n",
    "flux=flux.tolist()"
   ]
  },
  {
   "cell_type": "code",
   "execution_count": 6,
   "metadata": {},
   "outputs": [],
   "source": [
    "def unity(Eν):\n",
    "    return 1"
   ]
  },
  {
   "cell_type": "code",
   "execution_count": 7,
   "metadata": {},
   "outputs": [],
   "source": [
    "def compute_N(Tlist=np.linspace(0.0,18.77,50),n_year=10,N_target=N_JUNO_H,\n",
    "              R=unity, #R = branching ratio of .../ ..., Φnubar/Φnu\n",
    "              P=unity # oscillation probability\n",
    "             ):\n",
    "\n",
    "    T_bin_widths=np.diff(Tlist)\n",
    "    T_mid_list=Tlist[:-1]+T_bin_widths/2\n",
    "    \n",
    "    data=flux[\"8B\"]\n",
    "    Log10data=Log10(data)\n",
    "    Emin,Emax=data[0,0],data[-1,0]\n",
    "    ϕ= lambda E: 10**np.interp(Log10(E),Log10data[:,0],Log10data[:,1]) * HeavisideTheta(Emax-E)\n",
    "\n",
    "    Eν_list=T_mid_list+IBD_thre\n",
    "    ϕσPlist=[σ_IBD(Eν) * P(Eν)* R(Eν) * ϕ(Eν) *cm**-2 *MeV**-1  for T, Eν in zip(T_mid_list,Eν_list)]\n",
    "\n",
    "    Nlist=np.array(ϕσPlist)*3600*24*365*n_year*N_target * T_bin_widths\n",
    "        \n",
    "    return T_mid_list,Nlist"
   ]
  },
  {
   "cell_type": "code",
   "execution_count": 8,
   "metadata": {
    "scrolled": true
   },
   "outputs": [
    {
     "data": {
      "text/plain": [
       "[]"
      ]
     },
     "execution_count": 8,
     "metadata": {},
     "output_type": "execute_result"
    },
    {
     "data": {
      "image/png": "[encoded data removed]",
      "text/plain": [
       "<Figure size 432x288 with 1 Axes>"
      ]
     },
     "metadata": {
      "needs_background": "light"
     },
     "output_type": "display_data"
    }
   ],
   "source": [
    "T_mid_list,Nlist=compute_N()\n",
    "\n",
    "plt.errorbar(T_mid_list,Nlist,fmt='o')\n",
    "\n",
    "# plt.yscale(\"log\")\n",
    "plt.loglog()"
   ]
  },
  {
   "cell_type": "code",
   "execution_count": 9,
   "metadata": {},
   "outputs": [
    {
     "data": {
      "text/plain": [
       "12.161301841106877"
      ]
     },
     "execution_count": 9,
     "metadata": {},
     "output_type": "execute_result"
    }
   ],
   "source": [
    "data=np.loadtxt(\"data/Energy_Spectrum.csv\",delimiter=\",\",skiprows=1)\n",
    "line1=np.loadtxt(\"data/Energy_Spectrum.csv\",delimiter=\",\",max_rows=1,dtype=str)\n",
    "\n",
    "Eν_list=1.*data[:,0]\n",
    "mϕ_list=[float(mstr) for mstr in line1[2:]]\n",
    "R_Eν_list=[data[:,2+mi]/data[:,1] for mi,m in enumerate(mϕ_list)]\n",
    "\n",
    "\n",
    "\n",
    "\n",
    "data=np.loadtxt(\"result/Contact_S.csv\",delimiter=\",\",skiprows=1)\n",
    "Eν_list_S=1.*data[:,0]\n",
    "R_Eν_list_S1=data[:,2]/data[:,1] # ν ν νbar νbar\n",
    "R_Eν_list_S3=data[:,3]/data[:,1] # ν ν ν ν\n",
    "\n",
    "data=np.loadtxt(\"result/Contact_VT.csv\",delimiter=\",\",skiprows=1)\n",
    "Eν_list_VT=1.*data[:,0]\n",
    "R_Eν_list_V=data[:,2]/data[:,1] # 4ν vector\n",
    "R_Eν_list_T=data[:,3]/data[:,1] # 4ν tensor\n",
    "\n",
    "def R_Eν_fun(Eν,para):\n",
    "\n",
    "    if para[\"case\"]==\"ϕνν\":\n",
    "        mi=para[\"mi\"]\n",
    "        return np.interp(Eν,Eν_list,R_Eν_list[mi])\n",
    "    if para[\"case\"]==\"4νS1\":\n",
    "        return np.interp(Eν,Eν_list_S,R_Eν_list_S1)\n",
    "    if para[\"case\"]==\"4νS3\":\n",
    "        return np.interp(Eν,Eν_list_S,R_Eν_list_S3)\n",
    "    if para[\"case\"]==\"4νV\":\n",
    "        return np.interp(Eν,Eν_list_VT,R_Eν_list_V)\n",
    "    if para[\"case\"]==\"4νT\":\n",
    "        return np.interp(Eν,Eν_list_VT,R_Eν_list_T)\n",
    "\n",
    "    \n",
    "R_Eν_fun(0.01,{\"case\":\"ϕνν\",\"mi\":1})"
   ]
  },
  {
   "cell_type": "code",
   "execution_count": 10,
   "metadata": {
    "scrolled": true
   },
   "outputs": [
    {
     "data": {
      "image/png": "[encoded data removed]",
      "text/plain": [
       "<Figure size 432x288 with 1 Axes>"
      ]
     },
     "metadata": {
      "needs_background": "light"
     },
     "output_type": "display_data"
    }
   ],
   "source": [
    "data=np.loadtxt(\"data/solarP_a_e.dat\")\n",
    "for i in [1,2,3,4]:\n",
    "    plt.plot(data[:,0],data[:,i])\n",
    "Eν_list_osc=1.*data[:,0]\n",
    "Pα_list={\"e\":1.*data[:,2],\"μ\":1.* data[:,3],\"τ\":1.*data[:,4]}\n",
    "def P_osc(Eν,α):\n",
    "    return np.interp(Eν,Eν_list_osc,Pα_list[α])"
   ]
  },
  {
   "cell_type": "code",
   "execution_count": null,
   "metadata": {},
   "outputs": [],
   "source": []
  },
  {
   "cell_type": "markdown",
   "metadata": {},
   "source": [
    "# Effective four-fermion"
   ]
  },
  {
   "cell_type": "markdown",
   "metadata": {},
   "source": [
    "new version: \n",
    "\n",
    "$\\frac{1}{\\Lambda^{4}}:\\frac{1}{\\left(1\\text{MeV}\\right)^{4}}=1:N_{tot}$\n",
    "$\\to$ $\\frac{\\left(1\\text{MeV}\\right)^{4}}{\\Lambda^{4}}=\\frac{1}{N_{tot}}$\n",
    "$\\to$ $N_{tot}^{1/4}\\times1\\text{MeV}=\\Lambda$"
   ]
  },
  {
   "cell_type": "code",
   "execution_count": 11,
   "metadata": {
    "scrolled": true
   },
   "outputs": [
    {
     "name": "stdout",
     "output_type": "stream",
     "text": [
      "JUNO 4νS1 Λ= 11.594441841148766\n",
      "JUNO 4νS3 Λ= 17.161764646616913\n",
      "JUNO 4νV Λ= 19.132043065660447\n",
      "JUNO 4νT Λ= 44.98092235130016\n",
      "HK 4νS1 Λ= 22.642487190809273\n",
      "HK 4νS3 Λ= 33.514768671624665\n",
      "HK 4νV Λ= 37.362474708425225\n",
      "HK 4νT Λ= 87.84208607226843\n",
      "THEIA 4νS1 Λ= 16.27855269981451\n",
      "THEIA 4νS3 Λ= 24.09505296152207\n",
      "THEIA 4νV Λ= 26.861316445105995\n",
      "THEIA 4νT Λ= 63.15304565875989\n"
     ]
    }
   ],
   "source": [
    "\n",
    "for exp in [\"JUNO\",\"HK\",\"THEIA\"]:\n",
    "    N_target={\"JUNO\":N_JUNO_H,\"HK\":N_HyperK_H,\"THEIA\":N_THEIA_H}[exp]\n",
    "    for case in [\"4νS1\",\"4νS3\",\"4νV\",\"4νT\"]:\n",
    "        T_mid_list,Nlist=compute_N(N_target=N_target,R=lambda Eν:R_Eν_fun(Eν,{\"case\":case}) )\n",
    "        N_tot=np.sum(Nlist)\n",
    "        Λ=N_tot**0.25 *1 *MeV #see the equation above\n",
    "        print(exp, case, \"Λ=\", Λ  )"
   ]
  },
  {
   "cell_type": "code",
   "execution_count": 12,
   "metadata": {},
   "outputs": [
    {
     "data": {
      "image/png": "[encoded data removed]",
      "text/plain": [
       "<Figure size 432x288 with 1 Axes>"
      ]
     },
     "metadata": {
      "needs_background": "light"
     },
     "output_type": "display_data"
    }
   ],
   "source": [
    "X=np.array([0,1,2,3])\n",
    "plt.bar(X,[10,20,10,15],width=0.3,label=\"J\")\n",
    "plt.bar(X+0.3,[12,14,11,12],width=0.3,label=\"H\")\n",
    "ax=plt.gca()\n",
    "ax.tick_params(axis=\"x\",direction=\"in\",which=\"both\",length=0)\n",
    "ax.tick_params(axis=\"y\",direction=\"in\",which=\"both\")\n",
    "plt.xticks(X+0.2, labels=[\"S1\",\"S3\",\"V\",\"A\"])\n",
    "plt.legend()\n",
    "plt.show()"
   ]
  },
  {
   "cell_type": "code",
   "execution_count": 13,
   "metadata": {
    "scrolled": true
   },
   "outputs": [],
   "source": [
    "for case in [\"4νS1\",\"4νS3\",\"4νV\",\"4νT\"]:\n",
    "    for α in [\"e\",\"μ\",\"τ\"]:\n",
    "        for exp in [\"JUNO\",\"HK\",\"THEIA\"]:\n",
    "            N_target={\"JUNO\":N_JUNO_H,\"HK\":N_HyperK_H,\"THEIA\":N_THEIA_H}[exp]\n",
    "            T_mid_list,Nlist=compute_N(Tlist=np.linspace(0.0,18.77,50),N_target=N_target,\n",
    "                                  R=lambda Eν:R_Eν_fun(Eν,{\"case\":case}),\n",
    "                                      P=lambda Eν:P_osc(Eν,α)\n",
    "                                      )\n",
    "            N_tot=np.sum(Nlist)\n",
    "            Λ=N_tot**0.25 *1 *MeV #see the equation above\n",
    "            \n",
    "#             print(exp, case, α, \"Λ=\", Λ  )\n"
   ]
  },
  {
   "cell_type": "code",
   "execution_count": 14,
   "metadata": {},
   "outputs": [],
   "source": [
    "caseα_list=[]\n",
    "caseαL_list=[]\n",
    "labelSVT={\"4νS1\":r\"$S'$\",\"4νS3\":r\"$S$\",\"4νV\":r\"$V$\",\"4νT\":r\"$T$\"}\n",
    "labelα={\"e\":r\"$e$\",\"μ\":r\"$\\mu$\",\"τ\":r\"$\\tau$\"}\n",
    "for case in [\"4νS3\",\"4νS1\",\"4νV\",\"4νT\"]:    \n",
    "    for α in [\"e\",\"μ\",\"τ\"]:\n",
    "        caseα_list.append(case+α)\n",
    "        caseαL_list.append(labelSVT[case]+\"\\n \"+labelα[α])\n",
    "        \n",
    "# caseα_list"
   ]
  },
  {
   "cell_type": "code",
   "execution_count": 15,
   "metadata": {},
   "outputs": [],
   "source": [
    "Geff1,Geff2=(90+170)**-2,(90-60)**-2\n",
    "Geff3,Geff4=(4.6+0.5)**-2,(4.6-0.5)**-2"
   ]
  },
  {
   "cell_type": "code",
   "execution_count": 16,
   "metadata": {},
   "outputs": [
    {
     "data": {
      "image/png": "[encoded data removed]",
      "text/plain": [
       "<Figure size 432x288 with 1 Axes>"
      ]
     },
     "metadata": {
      "needs_background": "light"
     },
     "output_type": "display_data"
    }
   ],
   "source": [
    "X=np.array(range(len(caseα_list)))\n",
    "\n",
    "for iexp,exp in enumerate([\"JUNO\",\"HK\",\"THEIA\"]):\n",
    "    \n",
    "    Λ_list=[]\n",
    "    for i,caseα in enumerate(caseα_list):    \n",
    "        case,α=caseα[:-1],caseα[-1]\n",
    "        N_target={\"JUNO\":N_JUNO_H,\"HK\":N_HyperK_H,\"THEIA\":N_THEIA_H}[exp]\n",
    "        T_mid_list,Nlist=compute_N(Tlist=np.linspace(0.0,18.77,50),N_target=N_target,\n",
    "                              R=lambda Eν:R_Eν_fun(Eν,{\"case\":case}),\n",
    "                                  P=lambda Eν:P_osc(Eν,α)\n",
    "                                  )\n",
    "        N_tot=np.sum(Nlist)\n",
    "        Λ=N_tot**0.25 *1 *MeV #see the equation above\n",
    "        Λ_list.append(Λ)\n",
    "\n",
    "    plt.bar(X+iexp*0.25,Λ_list,width=0.25,label=exp)\n",
    "# plt.fill_between([0,12],y1=Geff3**-0.5,y2=Geff4**-0.5,color=\"C2\")\n",
    "# plt.fill_between([0,12],y1=Geff1**-0.5,y2=Geff2**-0.5,color=\"C2\")\n",
    "# plt.yscale(\"log\")\n",
    "# plt.ylim(0.1,500)\n",
    "plt.ylabel(r\"$\\Lambda$ [MeV]\")\n",
    "ax=plt.gca()\n",
    "ax.tick_params(axis=\"x\",direction=\"in\",which=\"both\",length=0)\n",
    "ax.tick_params(axis=\"y\",direction=\"in\",which=\"both\")\n",
    "plt.xticks(X+0.2, labels=caseαL_list)\n",
    "plt.legend()\n",
    " \n",
    "# plt.savefig('/home/xj/Dropbox/mywork/solar-vSI/git/lyx/fig/SVT_bound.pdf',bbox_inches='tight')    \n",
    "plt.show()"
   ]
  },
  {
   "cell_type": "markdown",
   "metadata": {},
   "source": [
    "# light mediator"
   ]
  },
  {
   "cell_type": "code",
   "execution_count": null,
   "metadata": {},
   "outputs": [],
   "source": []
  },
  {
   "cell_type": "code",
   "execution_count": 17,
   "metadata": {},
   "outputs": [],
   "source": [
    "def get_glist(exp):\n",
    "    \n",
    "    N_target={\"JUNO\":N_JUNO_H,\"HK\":N_HyperK_H,\"THEIA\":N_THEIA_H}[exp]\n",
    "    g_list=[0]*len(mϕ_list)\n",
    "    for mi,m in enumerate(mϕ_list):\n",
    "#         T_mid_list,Nlist=compute_N(Tlist=np.linspace(0.0,18.77,50),N_target=N_target,\n",
    "#                               R=lambda Eν:R_Eν_fun(Eν,mi))\n",
    "        \n",
    "        T_mid_list,Nlist=compute_N(N_target=N_target,\n",
    "                      R=lambda Eν:R_Eν_fun(Eν,{\"case\":\"ϕνν\",\"mi\":mi}),\n",
    "                          P=lambda Eν:P_osc(Eν,\"e\")\n",
    "                          )\n",
    "        N_tot=np.sum(Nlist)\n",
    "#         print (mi, g_list)\n",
    "        g_list[mi]=1 / N_tot**0.5 \n",
    "    return g_list\n"
   ]
  },
  {
   "cell_type": "code",
   "execution_count": 18,
   "metadata": {},
   "outputs": [
    {
     "data": {
      "image/png": "[encoded data removed]",
      "text/plain": [
       "<Figure size 432x288 with 1 Axes>"
      ]
     },
     "metadata": {
      "needs_background": "light"
     },
     "output_type": "display_data"
    }
   ],
   "source": [
    "fig, ax = plt.subplots()\n",
    "labelsize=14\n",
    "ax.tick_params(axis=\"y\",direction=\"in\",which=\"both\",labelsize=1.0*labelsize)\n",
    "ax.tick_params(axis=\"x\",direction=\"in\",which=\"both\",labelsize=1.0*labelsize)\n",
    "ax.set_xscale('log')\n",
    "ax.set_yscale('log')\n",
    "# plt.grid(which=\"both\")\n",
    "plt.xlim(1e0,1e2)\n",
    "plt.ylim(1e-4,6e-1)\n",
    "\n",
    "ax.set_xlabel(r'$m_{\\phi}/{\\rm MeV}$',fontsize=1.2*labelsize)\n",
    "ax.set_ylabel(r'$y_{ee}$',fontsize=1.2*labelsize)\n",
    "\n",
    "\n",
    "\n",
    "for exp in [\"JUNO\",\"HK\"]:\n",
    "    plt.plot(mϕ_list,get_glist(exp))\n",
    "\n",
    "\n",
    "\n",
    "plt.show()"
   ]
  },
  {
   "cell_type": "code",
   "execution_count": 19,
   "metadata": {},
   "outputs": [],
   "source": [
    "K_e=10**np.loadtxt(r\"data/meson-bounds/K_e.csv\",delimiter=\",\");\n",
    "pi_e=10**np.loadtxt(r\"data/meson-bounds/pi_e.csv\",delimiter=\",\");\n",
    "D_e=10**np.loadtxt(r\"data/meson-bounds/D_e.csv\",delimiter=\",\");\n",
    "Z_e=10**np.loadtxt(r\"data/meson-bounds/Z_e.csv\",delimiter=\",\");\n",
    "D_mu=10**np.loadtxt(r\"data/meson-bounds/D_mu.csv\",delimiter=\",\");\n",
    "K_mu=10**np.loadtxt(r\"data/meson-bounds/K_mu.csv\",delimiter=\",\");\n",
    "\n",
    "\n",
    "MSI=np.array([\n",
    "[2.9286445646252375e-6, 0.0001],\n",
    "[0.03408083981649994, 1], \n",
    "[0.29258707953277385, 1.0], \n",
    "[0.00002782559402207126, 0.0001]\n",
    "])\n",
    "MSI[:,0]=1e3*MSI[:,0]\n",
    "\n",
    "\n",
    "\n",
    "\n",
    "\n",
    "def generate_Z_inv_bound(a=2.9963+0.0074*3-3):\n",
    "    #imported from the Z_inv project\n",
    "    mlist=np.logspace(0,4.8);#from 1MeV to 1000MeV\n",
    "    def Nnu(tr,m,mz):\n",
    "    #     return (tr*Log(mz/m))/(8.*Pi**2) + (tr*((-17 - m**6/mz**6 + (9*m**4)/mz**4 \\\n",
    "    #     + (9*m**2)/mz**2)/12. + (1 + (3*m**3)/mz**3)*Log(mz/m)))/(8.*Pi**3)\n",
    "        return (tr*(Log(mz/m)+3.0/4.0))/(8.*Pi**2) + (tr*((-17 - m**6/mz**6 + (9*m**4)/mz**4 \\\n",
    "        + (9*m**2)/mz**2)/12. + (1 + (3*m**3)/mz**3)*Log(mz/m)))/(8.*Pi**2)\n",
    "\n",
    "    Nnulist = np.array([Nnu(1.0, m,91.19e3) for m in mlist])\n",
    "\n",
    "    # a=2.984+0.008*3-3\n",
    "\n",
    "    trlist=a/Nnulist\n",
    "    return np.transpose([mlist,np.sqrt(trlist)])\n",
    "z_inv_bound=generate_Z_inv_bound()"
   ]
  },
  {
   "cell_type": "code",
   "execution_count": 20,
   "metadata": {},
   "outputs": [],
   "source": [
    "Geff1,Geff2=(90+170)**-2,(90-60)**-2\n",
    "Geff3,Geff4=(4.6+0.5)**-2,(4.6-0.5)**-2"
   ]
  },
  {
   "cell_type": "code",
   "execution_count": 21,
   "metadata": {
    "scrolled": false
   },
   "outputs": [
    {
     "data": {
      "image/png": "[encoded data removed]",
      "text/plain": [
       "<Figure size 432x288 with 1 Axes>"
      ]
     },
     "metadata": {
      "needs_background": "light"
     },
     "output_type": "display_data"
    }
   ],
   "source": [
    "fig, ax = plt.subplots()\n",
    "labelsize=14\n",
    "ax.tick_params(axis=\"y\",direction=\"in\",which=\"both\",labelsize=1.0*labelsize)\n",
    "ax.tick_params(axis=\"x\",direction=\"in\",which=\"both\",labelsize=1.0*labelsize)\n",
    "ax.set_xscale('log')\n",
    "ax.set_yscale('log')\n",
    "# plt.grid(which=\"both\")\n",
    "plt.xlim(1e0,1e2)\n",
    "plt.ylim(1e-4,6e-1)\n",
    "\n",
    "ax.set_xlabel(r'$m_{\\phi}/{\\rm MeV}$',fontsize=1.2*labelsize)\n",
    "ax.set_ylabel(r'$g_{\\phi}$',fontsize=1.2*labelsize)\n",
    "\n",
    "\n",
    "\n",
    "m_list=np.geomspace(1,100)        \n",
    "ax.fill_between(m_list,(Geff1**0.5)*m_list,(Geff2**0.5)*m_list,alpha=0.2,color=\"C2\") \n",
    "ax.fill_between(m_list,(Geff3**0.5)*m_list,(Geff4**0.5)*m_list,alpha=0.2,color=\"C2\") \n",
    "\n",
    "\n",
    "\n",
    "ax.plot(z_inv_bound[:,0],z_inv_bound[:,1],color=\"k\",lw=0.6)\n",
    "\n",
    "for i,data in enumerate([K_e,D_e,pi_e]):\n",
    "    ax.plot(1000*data[:,0],data[:,1],color=\"k\",lw=0.6)\n",
    "    ax.fill_between(1000*data[:,0],data[:,1],10,alpha=0.1,color=\"k\")\n",
    "ax.text(s=r\"$K^-\\rightarrow e^- \\nu \\phi$\",x=40,y=1e-2)\n",
    "ax.text(s=r\"$\\pi^-\\rightarrow e^- \\nu \\phi$\",x=45,y=4e-2,rotation=33)\n",
    "ax.text(s=r\"$D^-\\rightarrow e^- \\nu \\phi$\",x=18,y=1.5e-1)\n",
    "ax.text(s=r\"$Z\\to {\\rm inv.}$\",x=30,y=3.4e-1)\n",
    "ax.text(s=r\"BBN\",x=1.15,y=2e-4,rotation=90)\n",
    "ax.text(s=\"$H_0$ tension\",x=3,y=2.5e-2,rotation=25,color=\"C2\",fontsize=14)\n",
    "            \n",
    "    \n",
    "    \n",
    "ax.fill_betweenx([1e-4,1e0],x1=1e-1,x2=1.3,alpha=0.1,color=\"k\")\n",
    "ax.plot([1.3]*2,[1e-4,1e0],color=\"k\",lw=0.6)\n",
    "# ax.plot([6]*2,[1e-4,1e0],ls=\"--\")\n",
    "\n",
    "for exp in [\"JUNO\",\"HK\",\"THEIA\"]:\n",
    "    ax.plot(mϕ_list,get_glist(exp),label=exp)\n",
    "    \n",
    "\n",
    "plt.legend()\n",
    "\n",
    "# plt.text(s=r\"19931126\",x=1e3,y=4.25e-1,color=\"blue\",\n",
    "#          fontsize=0.1*labelsize,rotation=10,zorder=11)\n",
    " \n",
    "# plt.savefig('/home/xj/Dropbox/mywork/solar-vSI/git/lyx/fig/y-m.pdf',bbox_inches='tight')    \n",
    "plt.show()"
   ]
  },
  {
   "cell_type": "markdown",
   "metadata": {},
   "source": [
    "# trash"
   ]
  },
  {
   "cell_type": "code",
   "execution_count": null,
   "metadata": {},
   "outputs": [],
   "source": []
  }
 ],
 "metadata": {
  "kernelspec": {
   "display_name": "Python 3",
   "language": "python",
   "name": "python3"
  },
  "language_info": {
   "codemirror_mode": {
    "name": "ipython",
    "version": 3
   },
   "file_extension": ".py",
   "mimetype": "text/x-python",
   "name": "python",
   "nbconvert_exporter": "python",
   "pygments_lexer": "ipython3",
   "version": "3.8.10"
  }
 },
 "nbformat": 4,
 "nbformat_minor": 4
}
